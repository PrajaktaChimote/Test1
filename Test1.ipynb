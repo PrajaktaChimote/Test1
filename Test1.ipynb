{
 "cells": [
  {
   "cell_type": "code",
   "execution_count": 1,
   "id": "b8ae42ed",
   "metadata": {},
   "outputs": [
    {
     "data": {
      "text/plain": [
       "3"
      ]
     },
     "execution_count": 1,
     "metadata": {},
     "output_type": "execute_result"
    }
   ],
   "source": [
    "1+2\n"
   ]
  },
  {
   "cell_type": "code",
   "execution_count": 2,
   "id": "85b13d99",
   "metadata": {},
   "outputs": [
    {
     "data": {
      "text/plain": [
       "'SOni'"
      ]
     },
     "execution_count": 2,
     "metadata": {},
     "output_type": "execute_result"
    }
   ],
   "source": [
    "\"SOni\""
   ]
  },
  {
   "cell_type": "code",
   "execution_count": 3,
   "id": "8eb344c5",
   "metadata": {},
   "outputs": [],
   "source": [
    "#soni\n"
   ]
  },
  {
   "cell_type": "raw",
   "id": "f637a614",
   "metadata": {},
   "source": [
    "soni"
   ]
  },
  {
   "cell_type": "markdown",
   "id": "df5a346b",
   "metadata": {},
   "source": [
    "# Soni\n"
   ]
  },
  {
   "cell_type": "code",
   "execution_count": null,
   "id": "80ef7d4d",
   "metadata": {},
   "outputs": [],
   "source": []
  }
 ],
 "metadata": {
  "kernelspec": {
   "display_name": "Python 3 (ipykernel)",
   "language": "python",
   "name": "python3"
  },
  "language_info": {
   "codemirror_mode": {
    "name": "ipython",
    "version": 3
   },
   "file_extension": ".py",
   "mimetype": "text/x-python",
   "name": "python",
   "nbconvert_exporter": "python",
   "pygments_lexer": "ipython3",
   "version": "3.9.13"
  }
 },
 "nbformat": 4,
 "nbformat_minor": 5
}
